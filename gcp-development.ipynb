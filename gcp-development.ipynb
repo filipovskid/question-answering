{
 "cells": [
  {
   "cell_type": "markdown",
   "id": "a989e874-3859-4027-aa53-4474705e0d2d",
   "metadata": {},
   "source": [
    "# QANet development notebook\n",
    "\n",
    "This notebook was created to enable faster development of the training process. Development on local machine was slow after adding the model encoding layer."
   ]
  },
  {
   "cell_type": "markdown",
   "id": "dd5105b6-deb5-48c9-bb2f-3b5209cb7b6f",
   "metadata": {},
   "source": [
    "## Setup"
   ]
  },
  {
   "cell_type": "markdown",
   "id": "6fe09f90-91ff-4c26-aee5-d31b3210cb79",
   "metadata": {},
   "source": [
    "### Repo setup"
   ]
  },
  {
   "cell_type": "code",
   "execution_count": 1,
   "id": "ab669073-0ffb-4d71-a799-0e26c849dc02",
   "metadata": {},
   "outputs": [],
   "source": [
    "!git config --global user.email \"darkofilipovski0@gmail.com\"\n",
    "!git config --global user.name \"Darko Filipovski\""
   ]
  },
  {
   "cell_type": "markdown",
   "id": "13e90315-983e-4475-9a5b-48d0ef642135",
   "metadata": {},
   "source": [
    "### Data loading"
   ]
  },
  {
   "cell_type": "code",
   "execution_count": 8,
   "id": "ac61107e-282d-48a7-980f-567e5efca3dd",
   "metadata": {},
   "outputs": [
    {
     "name": "stdout",
     "output_type": "stream",
     "text": [
      "/home/jupyter/question-answering\n"
     ]
    }
   ],
   "source": [
    "%cd /home/jupyter/question-answering\n",
    "!mkdir data"
   ]
  },
  {
   "cell_type": "code",
   "execution_count": 10,
   "id": "e3700186-6a10-4b4a-9230-3e1bf13a0e0f",
   "metadata": {},
   "outputs": [
    {
     "name": "stdout",
     "output_type": "stream",
     "text": [
      "Copying gs://nlp-squad-aiplatform/data/preprocessed-data.zip...\n",
      "==> NOTE: You are downloading one or more large file(s), which would            \n",
      "run significantly faster if you enabled sliced object downloads. This\n",
      "feature is enabled by default but requires that compiled crcmod be\n",
      "installed (see \"gsutil help crcmod\").\n",
      "\n",
      "| [1 files][165.2 MiB/165.2 MiB]                                                \n",
      "Operation completed over 1 objects/165.2 MiB.                                    \n"
     ]
    }
   ],
   "source": [
    "!gsutil cp gs://nlp-squad-aiplatform/data/preprocessed-data.zip ./data/preprocessed_data.zip"
   ]
  },
  {
   "cell_type": "code",
   "execution_count": 19,
   "id": "fe284c84-9a9d-4eaf-bcef-6d04ed2da2d1",
   "metadata": {},
   "outputs": [],
   "source": [
    "!unzip -qq ./data/preprocessed_data.zip -d ./data"
   ]
  },
  {
   "cell_type": "markdown",
   "id": "ff79b1d0-6548-4299-b24a-a30c16903892",
   "metadata": {},
   "source": [
    "### Dependencies"
   ]
  },
  {
   "cell_type": "code",
   "execution_count": 20,
   "id": "79f7a44b-a935-4335-8943-9d5f96fb5f32",
   "metadata": {},
   "outputs": [
    {
     "name": "stdout",
     "output_type": "stream",
     "text": [
      "Requirement already satisfied: ujson in /opt/conda/lib/python3.7/site-packages (4.1.0)\n"
     ]
    }
   ],
   "source": [
    "!pip install ujson"
   ]
  },
  {
   "cell_type": "markdown",
   "id": "65c236d3-63f4-408b-8275-b5056f1363e4",
   "metadata": {},
   "source": [
    "## Training loop"
   ]
  },
  {
   "cell_type": "code",
   "execution_count": 21,
   "id": "4e8c892c-feca-455b-84c4-955ebae2aa9f",
   "metadata": {},
   "outputs": [
    {
     "name": "stdout",
     "output_type": "stream",
     "text": [
      "/home/jupyter/question-answering\n"
     ]
    }
   ],
   "source": [
    "%cd /home/jupyter/question-answering/"
   ]
  },
  {
   "cell_type": "code",
   "execution_count": 24,
   "id": "9421cd4d-1a29-4f4c-a72d-7309a0ad3347",
   "metadata": {},
   "outputs": [
    {
     "name": "stdout",
     "output_type": "stream",
     "text": [
      "Traceback (most recent call last):\n",
      "  File \"train.py\", line 358, in <module>\n",
      "    main(args)\n",
      "  File \"train.py\", line 218, in main\n",
      "    print(f'Config: ', json.dumps(config, sort_keys=True, indent=4))\n",
      "TypeError: Namespace(base_lr=1.0, batch_size=32, char_emb_file='./data/char_emb.json', char_embed_size=100, dev_eval_file='./data/dev_eval.json', dev_record_file='./data/dev.npz', drop_prob=0.2, ema_decay=0.999, eval_steps=25000, hidden_size=128, l2_wd=5e-08, load_path=None, lr=0.001, max_ans_len=15, max_checkpoints=5, max_grad_norm=5.0, maximize_metric=True, metric_name='F1', name='test', notebook=False, num_epochs=40, num_visuals=10, num_warmup_steps=1000, num_workers=2, save_dir='./save/', seed=224, test_eval_file='./data/test_eval.json', test_record_file='./data/test.npz', train_eval_file='./data/train_eval.json', train_record_file='./data/dev.npz', word_emb_file='./data/word_emb.json', word_embed_size=300) is not JSON serializable\n"
     ]
    }
   ],
   "source": [
    "!python train.py -n test --eval_steps 25000 --num_workers 2 --num_epochs 40 --batch_size 32 --char_embed_size 100  --hidden_size 128 --train_record_file ./data/dev.npz"
   ]
  },
  {
   "cell_type": "code",
   "execution_count": null,
   "id": "b9441eb5-9dcb-43bc-a292-b7625583901e",
   "metadata": {},
   "outputs": [],
   "source": []
  }
 ],
 "metadata": {
  "environment": {
   "name": "pytorch-gpu.1-9.m80",
   "type": "gcloud",
   "uri": "gcr.io/deeplearning-platform-release/pytorch-gpu.1-9:m80"
  },
  "kernelspec": {
   "display_name": "Python 3",
   "language": "python",
   "name": "python3"
  },
  "language_info": {
   "codemirror_mode": {
    "name": "ipython",
    "version": 3
   },
   "file_extension": ".py",
   "mimetype": "text/x-python",
   "name": "python",
   "nbconvert_exporter": "python",
   "pygments_lexer": "ipython3",
   "version": "3.7.10"
  }
 },
 "nbformat": 4,
 "nbformat_minor": 5
}
